{
 "cells": [
  {
   "cell_type": "markdown",
   "metadata": {},
   "source": [
    "## Week 1 2020-01-10"
   ]
  },
  {
   "cell_type": "raw",
   "metadata": {},
   "source": [
    "OS:\n",
    "1. Kernel: talk to hardware and manage resources\n",
    "2. User space: everything outside kernel, \"user interface\" "
   ]
  },
  {
   "cell_type": "raw",
   "metadata": {},
   "source": [
    "Python Library\n",
    "PIL - image processing PIL has been replaced with Pillow\n",
    "but still use import PIL.Image"
   ]
  },
  {
   "cell_type": "code",
   "execution_count": null,
   "metadata": {},
   "outputs": [],
   "source": [
    "import PIL.Image"
   ]
  },
  {
   "cell_type": "code",
   "execution_count": null,
   "metadata": {},
   "outputs": [],
   "source": [
    "image = PIL.Image.open(r\"C:\\Users\\yingy\\AppData\\Local\\Programs\\Python\\Python37\\Lib\\site-packages\\PIL\\houses.jpg\")"
   ]
  },
  {
   "cell_type": "code",
   "execution_count": null,
   "metadata": {},
   "outputs": [],
   "source": [
    "image.size"
   ]
  },
  {
   "cell_type": "raw",
   "metadata": {},
   "source": [
    "Create your own module -- as py file or folder "
   ]
  },
  {
   "cell_type": "code",
   "execution_count": null,
   "metadata": {},
   "outputs": [],
   "source": [
    "import areas"
   ]
  },
  {
   "cell_type": "code",
   "execution_count": null,
   "metadata": {},
   "outputs": [],
   "source": [
    "areas.triangle(3,5)"
   ]
  },
  {
   "cell_type": "raw",
   "metadata": {},
   "source": [
    "Create a folder containing different .py script\n",
    "need to use a _init_.py file to serve as the identification of the whole folder as module. Can be empty"
   ]
  },
  {
   "cell_type": "raw",
   "metadata": {},
   "source": [
    "C:\\Users\\yingy\\AppData\\Local\\Programs\\Python\\Python37\\Lib\\site-packages\\pip\\_vendor\\requests"
   ]
  },
  {
   "cell_type": "raw",
   "metadata": {},
   "source": [
    "IDE - syntax highlighting"
   ]
  },
  {
   "cell_type": "markdown",
   "metadata": {},
   "source": [
    "## Week 2 2021-01-24"
   ]
  },
  {
   "cell_type": "code",
   "execution_count": null,
   "metadata": {},
   "outputs": [],
   "source": [
    "file = open(\"spider.txt\")"
   ]
  },
  {
   "cell_type": "code",
   "execution_count": null,
   "metadata": {},
   "outputs": [],
   "source": [
    "print(file.readline()) #single line"
   ]
  },
  {
   "cell_type": "code",
   "execution_count": null,
   "metadata": {},
   "outputs": [],
   "source": [
    "print(file.readline()) #read second line"
   ]
  },
  {
   "cell_type": "code",
   "execution_count": null,
   "metadata": {},
   "outputs": [],
   "source": [
    "print(file.read()) #read from current position til the end of the file"
   ]
  },
  {
   "cell_type": "code",
   "execution_count": null,
   "metadata": {},
   "outputs": [],
   "source": [
    "file.close() #"
   ]
  },
  {
   "cell_type": "code",
   "execution_count": null,
   "metadata": {},
   "outputs": [],
   "source": [
    "with open(\"spider.txt\") as file: #with block will open and close the file automatically \n",
    "    print(file.readline())"
   ]
  },
  {
   "cell_type": "code",
   "execution_count": null,
   "metadata": {},
   "outputs": [],
   "source": [
    "with open(\"spider.txt\") as file: \n",
    "    for line in file:\n",
    "        print(line.upper()) #print newline character when print, and print function also add newline\n",
    "        print(line.strip().upper()) #this will strip"
   ]
  },
  {
   "cell_type": "code",
   "execution_count": null,
   "metadata": {},
   "outputs": [],
   "source": [
    "file = open(\"spider.txt\")\n",
    "lines = file.readlines()\n",
    "file.close()\n",
    "lines.sort()\n",
    "print(lines)#\\n as escape variable to display special character"
   ]
  },
  {
   "cell_type": "code",
   "execution_count": null,
   "metadata": {},
   "outputs": [],
   "source": [
    "with open(\"novel.txt\",\"w\") as file: #modes: r -- default read only, w -- write only overwritten, \"a\": append\n",
    "    file.write(\"this is a test\")\n",
    "    #for linux this will also return the # of characters wrote"
   ]
  },
  {
   "cell_type": "markdown",
   "metadata": {},
   "source": [
    "## Week 2 2020-01-30"
   ]
  },
  {
   "cell_type": "code",
   "execution_count": null,
   "metadata": {},
   "outputs": [],
   "source": [
    "import os"
   ]
  },
  {
   "cell_type": "code",
   "execution_count": null,
   "metadata": {},
   "outputs": [],
   "source": [
    "os.remove(\"novel.txt\")"
   ]
  },
  {
   "cell_type": "code",
   "execution_count": null,
   "metadata": {},
   "outputs": [],
   "source": [
    "os.rename(\"1.txt\",\"2.txt\") #(orginal name, new name)"
   ]
  },
  {
   "cell_type": "code",
   "execution_count": null,
   "metadata": {},
   "outputs": [],
   "source": [
    "#check whether file exists, using os.path sub-module\n",
    "os.path.exists(\"2.txt\")"
   ]
  },
  {
   "cell_type": "code",
   "execution_count": null,
   "metadata": {},
   "outputs": [],
   "source": [
    "os.path.getsize(\"2.txt\")"
   ]
  },
  {
   "cell_type": "code",
   "execution_count": null,
   "metadata": {},
   "outputs": [],
   "source": [
    "os.path.getmtime(\"2.txt\") #unix timestamp # of seconds since 1970-01-01 launch of unix os launch"
   ]
  },
  {
   "cell_type": "code",
   "execution_count": null,
   "metadata": {},
   "outputs": [],
   "source": [
    "import datetime"
   ]
  },
  {
   "cell_type": "code",
   "execution_count": null,
   "metadata": {},
   "outputs": [],
   "source": [
    "datetime.datetime.fromtimestamp(os.path.getmtime(\"2.txt\"))"
   ]
  },
  {
   "cell_type": "code",
   "execution_count": null,
   "metadata": {},
   "outputs": [],
   "source": [
    "if os.path.isfile(\"Files\"):\n",
    "    print(os.path.isfile(\"Files\")) #won't work with folders"
   ]
  },
  {
   "cell_type": "markdown",
   "metadata": {},
   "source": [
    "## Week 2 2020-02-14"
   ]
  },
  {
   "cell_type": "code",
   "execution_count": null,
   "metadata": {},
   "outputs": [],
   "source": [
    "if os.path.isfile(\"2.txt\"):\n",
    "    print(os.path.isfile(\"2.txt\")) #file exist"
   ]
  },
  {
   "cell_type": "code",
   "execution_count": null,
   "metadata": {},
   "outputs": [],
   "source": [
    "os.path.abspath(\"2.txt\")"
   ]
  },
  {
   "cell_type": "code",
   "execution_count": null,
   "metadata": {},
   "outputs": [],
   "source": [
    "os.getcwd()"
   ]
  },
  {
   "cell_type": "code",
   "execution_count": null,
   "metadata": {},
   "outputs": [],
   "source": [
    "os.mkdir(\"new_dir\") #make directory/folder"
   ]
  },
  {
   "cell_type": "code",
   "execution_count": null,
   "metadata": {},
   "outputs": [],
   "source": [
    "os.chdir(\"C:\\\\Users\\\\yingy\\\\Desktop\\\\\") #change directory/enter into folder\n",
    "os.chdir(\"new_dir\")\n",
    "os.getcwd()"
   ]
  },
  {
   "cell_type": "code",
   "execution_count": null,
   "metadata": {},
   "outputs": [],
   "source": [
    "os.mkdir(\"newer_dir\")\n",
    "os.rmdir(\"newer_dir\") #only work if directory is empty"
   ]
  },
  {
   "cell_type": "code",
   "execution_count": null,
   "metadata": {},
   "outputs": [],
   "source": [
    "os.listdir(\"C:\\\\Users\\\\yingy\\\\Desktop\")"
   ]
  },
  {
   "cell_type": "code",
   "execution_count": null,
   "metadata": {},
   "outputs": [],
   "source": [
    "for name in os.listdir(\"C:\\\\Users\\\\yingy\\\\Desktop\"):\n",
    "    fullname = os.path.join(\"C:\\\\Users\\\\yingy\\\\Desktop\",name) #this join will auto adjust /\\ based on the os compare to using +\n",
    "    if os.path.isdir(fullname):\n",
    "        print(\"{} is a directory\".format(fullname))\n",
    "    else:\n",
    "         print(\"{} is a file\".format(fullname))"
   ]
  },
  {
   "cell_type": "markdown",
   "metadata": {},
   "source": [
    "## Week 2  2020-02-15"
   ]
  },
  {
   "cell_type": "code",
   "execution_count": 2,
   "metadata": {},
   "outputs": [],
   "source": [
    "import csv"
   ]
  },
  {
   "cell_type": "code",
   "execution_count": 3,
   "metadata": {},
   "outputs": [],
   "source": [
    "f = open(\"csv_file.csv\")"
   ]
  },
  {
   "cell_type": "code",
   "execution_count": 4,
   "metadata": {},
   "outputs": [],
   "source": [
    "csv_f = csv.reader(f) #interpret the file as csv"
   ]
  },
  {
   "cell_type": "code",
   "execution_count": 6,
   "metadata": {},
   "outputs": [
    {
     "name": "stdout",
     "output_type": "stream",
     "text": [
      "login:yingyy, phone:2/15/2021, SIm:a\n",
      "login:5, phone:2/15/2021, SIm:b\n",
      "login:6, phone:2/14/2021, SIm:c\n",
      "login:7, phone:2/1/2021, SIm:d\n"
     ]
    }
   ],
   "source": [
    "next(csv_f) #skip first line\n",
    "for row in csv_f: #unpacking list\n",
    "    login,date,SIM = row ##left variables must match with column\n",
    "    print(\"login:{}, phone:{}, SIm:{}\".format(login,date,SIM))"
   ]
  },
  {
   "cell_type": "code",
   "execution_count": 7,
   "metadata": {},
   "outputs": [],
   "source": [
    "f.close() #close file after using it"
   ]
  },
  {
   "cell_type": "code",
   "execution_count": 32,
   "metadata": {},
   "outputs": [],
   "source": [
    "hosts = [[\"workstation.local\",\"192.168.25.46\"],[\"webserver.cloud\",\"10.2.5.6\"]] #use list as data type"
   ]
  },
  {
   "cell_type": "code",
   "execution_count": 33,
   "metadata": {},
   "outputs": [],
   "source": [
    "with open('hosts.csv','w') as hosts_csv: # w gives write permission, and will auto create file\n",
    "    writer = csv.writer(hosts_csv)\n",
    "    writer.writerows(hosts) #use writerows to write all data, and writerow to write one row"
   ]
  },
  {
   "cell_type": "code",
   "execution_count": 28,
   "metadata": {},
   "outputs": [
    {
     "name": "stdout",
     "output_type": "stream",
     "text": [
      "OrderedDict([('Login', 'yingyy'), ('Date', '2/15/2021'), ('SIM', 'a')])\n",
      "login:yingyy, phone:2/15/2021, SIm:a\n",
      "OrderedDict([('Login', '5'), ('Date', '2/15/2021'), ('SIM', 'b')])\n",
      "login:5, phone:2/15/2021, SIm:b\n",
      "OrderedDict([('Login', '6'), ('Date', '2/14/2021'), ('SIM', 'c')])\n",
      "login:6, phone:2/14/2021, SIm:c\n",
      "OrderedDict([('Login', '7'), ('Date', '2/1/2021'), ('SIM', 'd')])\n",
      "login:7, phone:2/1/2021, SIm:d\n"
     ]
    }
   ],
   "source": [
    "#use Dic for complicated data structure\n",
    "with open('csv_file.csv', encoding = 'utf-8') as csv_file: #encoding must match with the file or header might be errored\n",
    "    reader = csv.DictReader(csv_file) #must be upper case\n",
    "    for row in reader: \n",
    "        print((\"login:{}, date:{}, SIM:{}\").format(row[\"Login\"],row[\"Date\"],row[\"SIM\"]))"
   ]
  },
  {
   "cell_type": "code",
   "execution_count": 29,
   "metadata": {},
   "outputs": [],
   "source": [
    "users = [{\"name\":\"frank\",\"username\":\"yingyy\",\"department\":\"RBS\"},{\"name\":\"jeff\",\"username\":\"jeff\",\"department\":\"CEO\"}]"
   ]
  },
  {
   "cell_type": "code",
   "execution_count": 31,
   "metadata": {},
   "outputs": [],
   "source": [
    "keys = [\"name\",\"username\",\"department\"]\n",
    "with open('by_department.csv','w') as by_department:\n",
    "    writer = csv.DictWriter(by_department,fieldnames=keys) #must pass on with keys\n",
    "    writer.writeheader()\n",
    "    writer.writerows(users)"
   ]
  }
 ],
 "metadata": {
  "kernelspec": {
   "display_name": "Python 3",
   "language": "python",
   "name": "python3"
  },
  "language_info": {
   "codemirror_mode": {
    "name": "ipython",
    "version": 3
   },
   "file_extension": ".py",
   "mimetype": "text/x-python",
   "name": "python",
   "nbconvert_exporter": "python",
   "pygments_lexer": "ipython3",
   "version": "3.7.2"
  }
 },
 "nbformat": 4,
 "nbformat_minor": 2
}
