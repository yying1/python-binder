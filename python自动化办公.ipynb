{
 "cells": [
  {
   "cell_type": "markdown",
   "metadata": {},
   "source": [
    "source:\n",
    "https://www.bilibili.com/video/BV12K411N7nx?p=9"
   ]
  },
  {
   "cell_type": "code",
   "execution_count": null,
   "metadata": {},
   "outputs": [],
   "source": [
    "a=1"
   ]
  },
  {
   "cell_type": "markdown",
   "metadata": {},
   "source": [
    "列表P9 2020-12-15"
   ]
  },
  {
   "cell_type": "code",
   "execution_count": 14,
   "metadata": {},
   "outputs": [],
   "source": [
    "#列表可以存入各式各样数据\n",
    "a_list = ['a', 'b', 1, a, ('m','n'), 'test',['m',('m')]]"
   ]
  },
  {
   "cell_type": "code",
   "execution_count": 17,
   "metadata": {},
   "outputs": [
    {
     "name": "stdout",
     "output_type": "stream",
     "text": [
      "['a', 'b', 1, 1, ('m', 'n'), ['m', 'm'], 'test', 3]\n",
      "a\n",
      "['a', 'b', 1]\n",
      "m\n"
     ]
    }
   ],
   "source": [
    "print(a_list)\n",
    "print(a_list[0]) #只能根据位置读出\n",
    "print(a_list[0:3])\n",
    "print(a_list[4][0]) #获得列表中列表值"
   ]
  },
  {
   "cell_type": "code",
   "execution_count": 16,
   "metadata": {},
   "outputs": [],
   "source": [
    "#添加/删除 添加尾部,删除特定值(会从左往右第一个值)\n",
    "a_list.append('test')\n",
    "a_list.append(3)\n",
    "a_list.remove('test') #删除原来第一个test"
   ]
  }
 ],
 "metadata": {
  "kernelspec": {
   "display_name": "Python 3",
   "language": "python",
   "name": "python3"
  },
  "language_info": {
   "codemirror_mode": {
    "name": "ipython",
    "version": 3
   },
   "file_extension": ".py",
   "mimetype": "text/x-python",
   "name": "python",
   "nbconvert_exporter": "python",
   "pygments_lexer": "ipython3",
   "version": "3.7.2"
  }
 },
 "nbformat": 4,
 "nbformat_minor": 2
}
