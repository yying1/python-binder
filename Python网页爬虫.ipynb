{
 "cells": [
  {
   "cell_type": "markdown",
   "metadata": {},
   "source": [
    "## 静态网页: 爬取新浪体育top news"
   ]
  },
  {
   "cell_type": "code",
   "execution_count": 1,
   "metadata": {},
   "outputs": [],
   "source": [
    "import requests as rq\n",
    "from bs4 import BeautifulSoup as bs"
   ]
  },
  {
   "cell_type": "code",
   "execution_count": 2,
   "metadata": {},
   "outputs": [],
   "source": [
    "r = rq.get(\"http://sports.sina.com.cn/global/\")"
   ]
  },
  {
   "cell_type": "code",
   "execution_count": 3,
   "metadata": {},
   "outputs": [],
   "source": [
    "# r.text中文乱码情况，https://www.cnblogs.com/bw13/p/6549248.html \n",
    "r.apparent_encoding\n",
    "r.encoding = r.apparent_encoding"
   ]
  },
  {
   "cell_type": "code",
   "execution_count": 4,
   "metadata": {},
   "outputs": [
    {
     "name": "stdout",
     "output_type": "stream",
     "text": [
      "utf-8 200 8\">\n",
      "    <!--${标题}-->\n",
      "    \t<title>国际足球_新浪竞技风暴_新浪网</title>\n",
      "\t<meta name=\"keywords\" content=\"国际足球,英超,意甲,西甲,德甲,法甲,欧冠,世界杯,FIFA,欧洲杯,欧联杯\" />\n",
      "\t<meta name=\"description\" content=\"新浪体育国际足球首页，呈现丰富专业生动的国际足球最新新闻、视频直\n"
     ]
    }
   ],
   "source": [
    "print(r.encoding, r.status_code, r.text[100:300])"
   ]
  },
  {
   "cell_type": "code",
   "execution_count": 5,
   "metadata": {},
   "outputs": [
    {
     "data": {
      "text/plain": [
       "{'Server': 'Tengine', 'Content-Type': 'text/html', 'Content-Length': '44652', 'Connection': 'keep-alive', 'Date': 'Mon, 22 Mar 2021 16:07:18 GMT', 'Etag': '\"6058c03d-3aa5b\"V=16D0D3C2', 'Expires': 'Mon, 22 Mar 2021 16:07:51 GMT', 'Cache-Control': 'max-age=60', 'Vary': 'Accept-Encoding', 'Via': 'https/1.1 cmcc.guangzhou.union.105 (ApacheTrafficServer/6.2.1 [cRs f ]), cache34.l2ot7-1[650,200-0,H], cache4.l2ot7-1[651,0], cache4.l2ot7-1[652,0], cache12.us9[0,0,200-0,H], cache2.us9[3,0]', 'X-Via-CDN': 'f=alicdn,s=cache2.us9,c=35.194.24.187;f=edge,s=cmcc.guangzhou.union.82.nb.sinaedge.com,c=47.254.113.54;f=Edge,s=cmcc.guangzhou.union.105,c=183.232.24.82', 'X-Via-Edge': '16164292380923671fe2ffb17e8b725d1f15e', 'X-Powered-By': 'shci_v1.13', 'Content-Encoding': 'gzip', 'X-Via-SSL': 'ssl.22.sinag1.qxg.lb.sinanode.com', 'Edge-Copy-Time': '1616429143095', 'Ali-Swift-Global-Savetime': '1616429150', 'Age': '59', 'X-Cache': 'HIT TCP_MEM_HIT dirn:-2:-2', 'X-Swift-SaveTime': 'Mon, 22 Mar 2021 16:07:18 GMT', 'X-Swift-CacheTime': '60', 'Timing-Allow-Origin': '*', 'EagleId': '2ff6189616164292976651348e'}"
      ]
     },
     "execution_count": 5,
     "metadata": {},
     "output_type": "execute_result"
    }
   ],
   "source": [
    "r.headers"
   ]
  },
  {
   "cell_type": "code",
   "execution_count": 6,
   "metadata": {},
   "outputs": [],
   "source": [
    "news_list =[]"
   ]
  },
  {
   "cell_type": "code",
   "execution_count": 7,
   "metadata": {},
   "outputs": [],
   "source": [
    "#获取信息+拆分\n",
    "#Note: 使用 \"lxml\" 需要安装 https://blog.csdn.net/weixin_44024857/article/details/87904685\n",
    "soup = bs(r.text,'html.parser')"
   ]
  },
  {
   "cell_type": "code",
   "execution_count": 8,
   "metadata": {},
   "outputs": [],
   "source": [
    "div_list = soup.find_all('div', class_ = 'blk2')"
   ]
  },
  {
   "cell_type": "code",
   "execution_count": 9,
   "metadata": {},
   "outputs": [
    {
     "data": {
      "text/plain": [
       "<div class=\"blk2\">\n",
       "<!--${中间列表显示}-->\n",
       "<ul class=\"ul-type1\"><li><a href=\"https://sports.sina.com.cn/global/germany/2021-03-22/doc-ikkntiam6360920.shtml\" target=\"_blank\">德媒：阿隆索今夏将接手门兴 首次执教顶级球队</a></li><li><a href=\"https://sports.sina.com.cn/g/pl/2021-03-22/doc-ikknscsi9455270.shtml\" target=\"_blank\">不惑之年发现父亲是名人 这球迷的神奇经历绝了</a></li><li><a href=\"https://sports.sina.com.cn/global/france/2021-03-22/doc-ikknscsi9336510.shtml\" target=\"_blank\">看呆！法甲惊现40米超远落叶斩 这球可争年度最佳</a></li><li><a href=\"https://sports.sina.com.cn/g/pl/2021-03-22/doc-ikknscsi9240812.shtml\" target=\"_blank\">林皇威武！7场制造7球 离开曼联后杀疯了</a></li><li><a href=\"https://sports.sina.com.cn/g/pl/2021-03-22/doc-ikknscsi9238443.shtml\" target=\"_blank\">曝国米盯上曼城王牌前锋 他若离曼城恐引豪门争抢</a></li><li><a href=\"https://sports.sina.com.cn/g/laliga/2021-03-22/doc-ikknscsi9237739.shtml\" target=\"_blank\">巴萨本季最贵引援0进球0助攻 连续3场没上似已被废</a></li><li><a href=\"https://sports.sina.com.cn/g/pl/2021-03-22/doc-ikkntiam6077951.shtml\" target=\"_blank\">曼联愿与复苏名将加薪续约 买下1人后他完成蜕变</a></li><li><a href=\"https://sports.sina.com.cn/g/pl/2021-03-22/doc-ikknscsi9233682.shtml\" target=\"_blank\">观点：切尔西万事俱备只差1人 若签下他就太恐怖了</a></li><li><a href=\"https://sports.sina.com.cn/g/pl/2021-03-22/doc-ikknscsi9231551.shtml\" target=\"_blank\">热刺头牌认同穆帅观点：态度出了问题 今天改正了</a></li><li><a href=\"https://sports.sina.com.cn/g/pl/2021-03-22/doc-ikkntiam6070537.shtml\" target=\"_blank\">名宿叹服：当世最强中锋不是哈兰德是他 全能怪兽</a></li><li><a href=\"https://sports.sina.com.cn/g/laliga/2021-03-22/doc-ikkntiam6069597.shtml\" target=\"_blank\">16年进500球 苏亚雷斯成现役第五位500球成员</a></li></ul><div class=\"dotted-h30\"></div><ul class=\"ul-type1\"><li><a href=\"https://sports.sina.com.cn/g/pl/2021-03-22/doc-ikkntiam6069462.shtml\" target=\"_blank\">名宿意外索帅如此用兵：夺杯的绝好机会错过了</a></li><li><a href=\"https://sports.sina.com.cn/g/pl/2021-03-22/doc-ikkntiam6067535.shtml\" target=\"_blank\">C罗梅西谁更强？名帅：一个更伟大 一个更强大</a></li><li><a href=\"https://sports.sina.com.cn/g/seriea/2021-03-22/doc-ikknscsi9226993.shtml\" target=\"_blank\">意大利名帅：曾拒绝皇马邀请 没法说是否回尤文</a></li><li><a href=\"https://sports.sina.com.cn/g/pl/2021-03-22/doc-ikkntiam6066190.shtml\" target=\"_blank\">穆帅这一手排兵有用意 用16岁孩子鞭策全队</a></li><li><a href=\"https://sports.sina.com.cn/g/seriea/2021-03-22/doc-ikknscsi9224459.shtml\" target=\"_blank\">C罗拿到GOAT770纪念球衣 输球却搅了他的兴致</a></li><li><a href=\"https://sports.sina.com.cn/g/laliga/2021-03-22/doc-ikkntiam6062660.shtml\" target=\"_blank\">格列兹曼：三中卫让巴萨更稳固 科曼已找到了窍门</a></li><li><a href=\"https://sports.sina.com.cn/g/pl/2021-03-22/doc-ikknscsi9222135.shtml\" target=\"_blank\">曝克洛普与范戴克产生严重分歧 该不该踢欧洲杯？</a></li><li><a href=\"https://sports.sina.com.cn/g/seriea/2021-03-22/doc-ikknscsi9220832.shtml\" target=\"_blank\">尤文正式表态：已决定留下C罗 他是世界最佳球员</a></li><li><a href=\"https://sports.sina.com.cn/g/seriea/2021-03-22/doc-ikknscsi9220884.shtml\" target=\"_blank\">皮奥利：没想到尤文输球 希望AC米兰留在争冠行列</a></li><li><a href=\"https://sports.sina.com.cn/g/pl/2021-03-22/doc-ikkntiam6060572.shtml\" target=\"_blank\">图赫尔披露切尔西主力无缘国家队：他需要看牙</a></li></ul><div class=\"dotted-h30\"></div><ul class=\"ul-type1\"><li><a href=\"https://sports.sina.com.cn/g/laliga/2021-03-22/doc-ikkntiam6060383.shtml\" target=\"_blank\">科曼：进皇家社会6球不可思议 赛季还很漫长</a></li><li><a href=\"https://sports.sina.com.cn/g/pl/2021-03-22/doc-ikkntiam6060212.shtml\" target=\"_blank\">曼联扶不起的阿斗再遭批：什么都没有 别再找借口</a></li><li><a href=\"https://sports.sina.com.cn/g/pl/2021-03-22/doc-ikknscsi9218957.shtml\" target=\"_blank\">观点：曼联又是这一环掉链子 红魔最该买的人是谁</a></li><li><a href=\"https://sports.sina.com.cn/g/laliga/2021-03-22/doc-ikkntiam6058202.shtml\" target=\"_blank\">14球11助！饱受批评的格列兹曼数据还真不赖</a></li><li><a href=\"https://sports.sina.com.cn/g/pl/2021-03-22/doc-ikknscsi9217566.shtml\" target=\"_blank\">热刺大将球场情场双失意 被模特蹬了 上网找对象</a></li><li><a href=\"https://sports.sina.com.cn/g/pl/2021-03-22/doc-ikkntiam6057396.shtml\" target=\"_blank\">索帅：赛程疲劳开始发作了 对AC米兰消耗很大</a></li><li><a href=\"https://sports.sina.com.cn/g/seriea/2021-03-22/doc-ikknscsi9216681.shtml\" target=\"_blank\">伊布：年龄越大越感觉年轻 用表现来证明值得续约</a></li><li><a href=\"https://sports.sina.com.cn/g/pl/2021-03-22/doc-ikknscsi9215856.shtml\" target=\"_blank\">切尔西中锋训练5分钟又伤了 图赫尔:还是老伤位置</a></li><li><a href=\"https://sports.sina.com.cn/g/laliga/2021-03-22/doc-ikkntiam6054927.shtml\" target=\"_blank\">梅西五大联赛制造进球数第一 超莱万哈兰德C罗</a></li><li><a href=\"https://sports.sina.com.cn/g/laliga/2021-03-22/doc-ikkntiam6054462.shtml\" target=\"_blank\">20岁右后卫梅开二度 巴萨找到了阿尔维斯接班人？</a></li></ul><div class=\"dotted-h30\"></div><ul class=\"ul-type1\"><li><a href=\"https://sports.sina.com.cn/g/pl/2021-03-22/doc-ikkntiam6053387.shtml\" target=\"_blank\">穆帅：热刺需要愤怒球员 凯恩威尼修斯是最佳后卫</a></li><li><a href=\"https://sports.sina.com.cn/g/pl/2021-03-22/doc-ikkntiam6051444.shtml\" target=\"_blank\">穆里尼奥有了一线生机 热刺定的底线成绩有望实现</a></li><li><a href=\"https://sports.sina.com.cn/g/laliga/2021-03-22/doc-ikknscsi9210434.shtml\" target=\"_blank\">对手懵了！6人也没防住梅西 他拿球后足坛无解</a></li><li><a href=\"https://sports.sina.com.cn/g/pl/2021-03-22/doc-ikknscsi9210019.shtml\" target=\"_blank\">穆里尼奥：我没看队长的访谈 我关在壳里非常成熟</a></li><li><a href=\"https://sports.sina.com.cn/g/laliga/2021-03-22/doc-ikknscsi9207302.shtml\" target=\"_blank\">坑太大了！巴萨近18轮拿48分仍落后马竞4分</a></li><li><a href=\"https://sports.sina.com.cn/g/pl/2021-03-22/doc-ikknscsi9208058.shtml\" target=\"_blank\">穆里尼奥：更衣室充满自私 感到羞耻是男人的反应</a></li><li><a href=\"https://sports.sina.com.cn/g/laliga/2021-03-22/doc-ikkntiam6045435.shtml\" target=\"_blank\">梅西完蛋了？2021年用19球+8助攻数据打脸黑子</a></li><li><a href=\"https://sports.sina.com.cn/g/pl/2021-03-22/doc-ikkntiam6044662.shtml\" target=\"_blank\">穆里尼奥避免执教生涯尴尬纪录：遗憾不能换8个人</a></li><li><a href=\"https://sports.sina.com.cn/g/laliga/2021-03-22/doc-ikkntiam6043574.shtml\" target=\"_blank\">客场6球破皇社+9连胜！巴萨疯狂一夜刷新多项数据</a></li><li><a href=\"https://sports.sina.com.cn/g/pl/2021-03-22/doc-ikkntiam6043360.shtml\" target=\"_blank\">凯恩参与30球仅次莱万梅西 赛后表达英超争四决心</a></li></ul><div class=\"dotted-h30\"></div><ul class=\"ul-type1\"><li><a href=\"https://sports.sina.com.cn/g/laliga/2021-03-22/doc-ikkntiam6042652.shtml\" target=\"_blank\">142场造135球！姆巴佩解锁新成就 现役法甲第一</a></li><li><a href=\"https://sports.sina.com.cn/g/laliga/2021-03-22/doc-ikkntiam6041620.shtml\" target=\"_blank\">法甲-姆巴佩两球 内马尔复出 巴黎4-2里昂登榜首</a></li><li><a href=\"https://sports.sina.com.cn/g/laliga/2021-03-22/doc-ikkntiam6039285.shtml\" target=\"_blank\">西甲-梅西2射1传 边翼双响 巴萨6-1力夺客场9连胜</a></li><li><a href=\"https://sports.sina.com.cn/g/seriea/2021-03-22/doc-ikknscsi9199720.shtml\" target=\"_blank\">伊布破小球荒错过帽子戏法！本季意甲15球创纪录</a></li><li><a href=\"https://sports.sina.com.cn/g/pl/2021-03-22/doc-ikkntiam6037807.shtml\" target=\"_blank\">英超-凯恩+搭档破门 热刺客场2-0止连败距前四3分</a></li><li><a href=\"https://sports.sina.com.cn/g/laliga/2021-03-22/doc-ikkntiam6039724.shtml\" target=\"_blank\">西甲-苏亚雷斯职业生涯第500球 马竞主场连胜领跑</a></li><li><a href=\"https://sports.sina.com.cn/g/seriea/2021-03-22/doc-ikkntiam6039307.shtml\" target=\"_blank\">皮尔洛：各方面表现都很糟糕 争冠军需要改变态度</a></li><li><a href=\"https://sports.sina.com.cn/g/pl/2021-03-22/doc-ikknscsi9197933.shtml\" target=\"_blank\">罗杰斯百场淘汰曼联 莱斯特39年来首入足总杯4强</a></li><li><a href=\"https://sports.sina.com.cn/g/pl/2021-03-22/doc-ikkntiam6038145.shtml\" target=\"_blank\">曼城弃将2射1传送曼联出局 近4场狂飙7球无人敌</a></li></ul>\n",
       "</div>"
      ]
     },
     "execution_count": 9,
     "metadata": {},
     "output_type": "execute_result"
    }
   ],
   "source": [
    "# this is to get the main news section from the web\n",
    "div_list[0]"
   ]
  },
  {
   "cell_type": "code",
   "execution_count": 11,
   "metadata": {},
   "outputs": [],
   "source": [
    "new_list = div_list[0].find_all('li')"
   ]
  },
  {
   "cell_type": "code",
   "execution_count": 12,
   "metadata": {},
   "outputs": [],
   "source": [
    "for new in new_list:\n",
    "    news = new.a.text.strip()\n",
    "    news_list.append(news)"
   ]
  },
  {
   "cell_type": "code",
   "execution_count": 13,
   "metadata": {},
   "outputs": [
    {
     "data": {
      "text/plain": [
       "['德媒：阿隆索今夏将接手门兴 首次执教顶级球队',\n",
       " '不惑之年发现父亲是名人 这球迷的神奇经历绝了',\n",
       " '看呆！法甲惊现40米超远落叶斩 这球可争年度最佳',\n",
       " '林皇威武！7场制造7球 离开曼联后杀疯了',\n",
       " '曝国米盯上曼城王牌前锋 他若离曼城恐引豪门争抢',\n",
       " '巴萨本季最贵引援0进球0助攻 连续3场没上似已被废',\n",
       " '曼联愿与复苏名将加薪续约 买下1人后他完成蜕变',\n",
       " '观点：切尔西万事俱备只差1人 若签下他就太恐怖了',\n",
       " '热刺头牌认同穆帅观点：态度出了问题 今天改正了',\n",
       " '名宿叹服：当世最强中锋不是哈兰德是他 全能怪兽',\n",
       " '16年进500球 苏亚雷斯成现役第五位500球成员',\n",
       " '名宿意外索帅如此用兵：夺杯的绝好机会错过了',\n",
       " 'C罗梅西谁更强？名帅：一个更伟大 一个更强大',\n",
       " '意大利名帅：曾拒绝皇马邀请 没法说是否回尤文',\n",
       " '穆帅这一手排兵有用意 用16岁孩子鞭策全队',\n",
       " 'C罗拿到GOAT770纪念球衣 输球却搅了他的兴致',\n",
       " '格列兹曼：三中卫让巴萨更稳固 科曼已找到了窍门',\n",
       " '曝克洛普与范戴克产生严重分歧 该不该踢欧洲杯？',\n",
       " '尤文正式表态：已决定留下C罗 他是世界最佳球员',\n",
       " '皮奥利：没想到尤文输球 希望AC米兰留在争冠行列',\n",
       " '图赫尔披露切尔西主力无缘国家队：他需要看牙',\n",
       " '科曼：进皇家社会6球不可思议 赛季还很漫长',\n",
       " '曼联扶不起的阿斗再遭批：什么都没有 别再找借口',\n",
       " '观点：曼联又是这一环掉链子 红魔最该买的人是谁',\n",
       " '14球11助！饱受批评的格列兹曼数据还真不赖',\n",
       " '热刺大将球场情场双失意 被模特蹬了 上网找对象',\n",
       " '索帅：赛程疲劳开始发作了 对AC米兰消耗很大',\n",
       " '伊布：年龄越大越感觉年轻 用表现来证明值得续约',\n",
       " '切尔西中锋训练5分钟又伤了 图赫尔:还是老伤位置',\n",
       " '梅西五大联赛制造进球数第一 超莱万哈兰德C罗',\n",
       " '20岁右后卫梅开二度 巴萨找到了阿尔维斯接班人？',\n",
       " '穆帅：热刺需要愤怒球员 凯恩威尼修斯是最佳后卫',\n",
       " '穆里尼奥有了一线生机 热刺定的底线成绩有望实现',\n",
       " '对手懵了！6人也没防住梅西 他拿球后足坛无解',\n",
       " '穆里尼奥：我没看队长的访谈 我关在壳里非常成熟',\n",
       " '坑太大了！巴萨近18轮拿48分仍落后马竞4分',\n",
       " '穆里尼奥：更衣室充满自私 感到羞耻是男人的反应',\n",
       " '梅西完蛋了？2021年用19球+8助攻数据打脸黑子',\n",
       " '穆里尼奥避免执教生涯尴尬纪录：遗憾不能换8个人',\n",
       " '客场6球破皇社+9连胜！巴萨疯狂一夜刷新多项数据',\n",
       " '凯恩参与30球仅次莱万梅西 赛后表达英超争四决心',\n",
       " '142场造135球！姆巴佩解锁新成就 现役法甲第一',\n",
       " '法甲-姆巴佩两球 内马尔复出 巴黎4-2里昂登榜首',\n",
       " '西甲-梅西2射1传 边翼双响 巴萨6-1力夺客场9连胜',\n",
       " '伊布破小球荒错过帽子戏法！本季意甲15球创纪录',\n",
       " '英超-凯恩+搭档破门 热刺客场2-0止连败距前四3分',\n",
       " '西甲-苏亚雷斯职业生涯第500球 马竞主场连胜领跑',\n",
       " '皮尔洛：各方面表现都很糟糕 争冠军需要改变态度',\n",
       " '罗杰斯百场淘汰曼联 莱斯特39年来首入足总杯4强',\n",
       " '曼城弃将2射1传送曼联出局 近4场狂飙7球无人敌']"
      ]
     },
     "execution_count": 13,
     "metadata": {},
     "output_type": "execute_result"
    }
   ],
   "source": [
    "news_list"
   ]
  },
  {
   "cell_type": "markdown",
   "metadata": {},
   "source": [
    "## 动态网页"
   ]
  },
  {
   "cell_type": "code",
   "execution_count": null,
   "metadata": {},
   "outputs": [],
   "source": []
  }
 ],
 "metadata": {
  "kernelspec": {
   "display_name": "Python 3",
   "language": "python",
   "name": "python3"
  },
  "language_info": {
   "codemirror_mode": {
    "name": "ipython",
    "version": 3
   },
   "file_extension": ".py",
   "mimetype": "text/x-python",
   "name": "python",
   "nbconvert_exporter": "python",
   "pygments_lexer": "ipython3",
   "version": "3.7.10"
  }
 },
 "nbformat": 4,
 "nbformat_minor": 2
}
