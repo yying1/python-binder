{
 "cells": [
  {
   "cell_type": "markdown",
   "metadata": {},
   "source": [
    "## 静态网页: 爬取新浪体育top news"
   ]
  },
  {
   "cell_type": "code",
   "execution_count": 14,
   "metadata": {},
   "outputs": [],
   "source": [
    "import requests as rq\n",
    "from bs4 import BeautifulSoup as bs"
   ]
  },
  {
   "cell_type": "code",
   "execution_count": 45,
   "metadata": {},
   "outputs": [],
   "source": [
    "r = rq.get(\"http://sports.sina.com.cn/global/\")"
   ]
  },
  {
   "cell_type": "code",
   "execution_count": 46,
   "metadata": {},
   "outputs": [],
   "source": [
    "# r.text中文乱码情况，https://www.cnblogs.com/bw13/p/6549248.html \n",
    "r.apparent_encoding\n",
    "r.encoding = r.apparent_encoding"
   ]
  },
  {
   "cell_type": "code",
   "execution_count": 47,
   "metadata": {},
   "outputs": [
    {
     "name": "stdout",
     "output_type": "stream",
     "text": [
      "utf-8 200 8\">\n",
      "    <!--${标题}-->\n",
      "    \t<title>国际足球_新浪竞技风暴_新浪网</title>\n",
      "\t<meta name=\"keywords\" content=\"国际足球,英超,意甲,西甲,德甲,法甲,欧冠,世界杯,FIFA,欧洲杯,欧联杯\" />\n",
      "\t<meta name=\"description\" content=\"新浪体育国际足球首页，呈现丰富专业生动的国际足球最新新闻、视频直\n"
     ]
    }
   ],
   "source": [
    "print(r.encoding, r.status_code, r.text[100:300])"
   ]
  },
  {
   "cell_type": "code",
   "execution_count": 13,
   "metadata": {},
   "outputs": [
    {
     "data": {
      "text/plain": [
       "{'Server': 'nginx', 'Date': 'Sun, 07 Mar 2021 14:39:14 GMT', 'Content-Type': 'text/html', 'Content-Length': '52297', 'Connection': 'keep-alive', 'Vary': 'Accept-Encoding', 'ETag': '\"6044e4a7-3b95d\"V=16D0D3C2', 'X-Powered-By': 'shci_v1.13', 'Expires': 'Sun, 07 Mar 2021 14:39:38 GMT', 'Cache-Control': 'max-age=60', 'Content-Encoding': 'gzip', 'X-Via-SSL': 'ssl.65.sinag1.bx.lb.sinanode.com', 'Edge-Copy-Time': '1615127918281', 'Age': '36', 'Via': 'https/1.1 cnc.yizhuang.union.94 (ApacheTrafficServer/6.2.1 [cHs f ])', 'X-Cache': 'HIT.unknown', 'X-Via-CDN': 'f=edge,s=cnc.yizhuang.union.93.nb.sinaedge.com,c=111.193.136.244;f=Edge,s=cnc.yizhuang.union.94,c=172.16.56.93', 'X-Via-Edge': '1615127954220f488c16f5d3810ac7c811c7a'}"
      ]
     },
     "execution_count": 13,
     "metadata": {},
     "output_type": "execute_result"
    }
   ],
   "source": [
    "r.headers"
   ]
  },
  {
   "cell_type": "code",
   "execution_count": 48,
   "metadata": {},
   "outputs": [],
   "source": [
    "news_list =[]"
   ]
  },
  {
   "cell_type": "code",
   "execution_count": 49,
   "metadata": {},
   "outputs": [],
   "source": [
    "#获取信息+拆分\n",
    "#Note: 使用 \"lxml\" 需要安装 https://blog.csdn.net/weixin_44024857/article/details/87904685\n",
    "soup = bs(r.text,'html.parser')"
   ]
  },
  {
   "cell_type": "code",
   "execution_count": 50,
   "metadata": {},
   "outputs": [],
   "source": [
    "div_list = soup.find_all('div', class_ = 'blk2')"
   ]
  },
  {
   "cell_type": "code",
   "execution_count": 38,
   "metadata": {},
   "outputs": [
    {
     "data": {
      "text/plain": [
       "<div class=\"blk2\">\n",
       "<!--${中间列表显示}-->\n",
       "<ul class=\"ul-type1\"><li><a href=\"https://sports.sina.com.cn/g/pl/2021-03-07/doc-ikkntiak5884119.shtml\" target=\"_blank\">英超网络暴力日趋严重 伯恩利手球漏判后卫遭网暴</a></li><li><a href=\"https://sports.sina.com.cn/g/pl/2021-03-07/doc-ikknscsh9037711.shtml\" target=\"_blank\">前阿森纳门将：枪手不信任我 我想和维拉一起欧战</a></li><li><a href=\"https://sports.sina.com.cn/g/laliga/2021-03-07/doc-ikknscsh9029744.shtml\" target=\"_blank\">竞选正进行！巴萨将在明早揭晓主席竞选结果</a></li><li><a href=\"https://sports.sina.com.cn/g/laliga/2021-03-07/doc-ikknscsh9026651.shtml\" target=\"_blank\">拉波尔塔：若我当选巴萨主席今晚就跟梅父通话</a></li><li><a href=\"https://sports.sina.com.cn/global/germany/2021-03-07/doc-ikkntiak5820384.shtml\" target=\"_blank\">曝巴黎欲引进拜仁名将 球员仍想等等皇马切尔西</a></li><li><a href=\"https://sports.sina.com.cn/g/pl/2021-03-07/doc-ikkntiak5818623.shtml\" target=\"_blank\">索帅：曼联进攻确实令人担忧 必须找回进攻火花</a></li><li><a href=\"https://sports.sina.com.cn/g/pl/2021-03-07/doc-ikkntiak5815030.shtml\" target=\"_blank\">旧将炮轰阿森纳：没给我应有的信任 配不上我</a></li><li><a href=\"https://sports.sina.com.cn/g/pl/2021-03-07/doc-ikkntiak5813946.shtml\" target=\"_blank\">曝萨拉赫不排除离队可能 观望皇马巴萨动向</a></li><li><a href=\"https://sports.sina.com.cn/g/pl/2021-03-07/doc-ikknscsh8967412.shtml\" target=\"_blank\">切尔西大将谈图赫尔：重视细节 不按他说的就出局</a></li><li><a href=\"https://sports.sina.com.cn/g/laliga/2021-03-07/doc-ikknscsh8925542.shtml\" target=\"_blank\">马德里德比两大中锋对决 看苏牙本泽马谁能建功</a></li><li><a href=\"https://sports.sina.com.cn/g/laliga/2021-03-07/doc-ikknscsh8918226.shtml\" target=\"_blank\">西甲变三国演义 两马争槽巴萨望收渔翁之利</a></li></ul><div class=\"dotted-h30\"></div><ul class=\"ul-type1\"><li><a href=\"https://sports.sina.com.cn/g/pl/2021-03-07/doc-ikkntiak5765267.shtml\" target=\"_blank\">分析-阿森纳玩笑失球怎么丢的 背后责任人是阿帅</a></li><li><a href=\"https://sports.sina.com.cn/g/laliga/2021-03-07/doc-ikkntiak5755797.shtml\" target=\"_blank\">天才30场2球却仍获信任 皇马已拒多份重要报价</a></li><li><a href=\"https://sports.sina.com.cn/g/laliga/2021-03-07/doc-ikknscsh8906671.shtml\" target=\"_blank\">4场不丢球17次化解威胁  特狮成巴萨生命保险</a></li><li><a href=\"https://sports.sina.com.cn/g/pl/2021-03-07/doc-ikkntiak5750188.shtml\" target=\"_blank\">中超名将：想在切尔西退役 不过年龄是一个问题</a></li><li><a href=\"https://sports.sina.com.cn/g/pl/2021-03-07/doc-ikkntiak5748989.shtml\" target=\"_blank\">英超官方解释不给阿森纳点球 球迷一听就炸了</a></li><li><a href=\"https://sports.sina.com.cn/g/pl/2021-03-07/doc-ikknscsh8902367.shtml\" target=\"_blank\">英超次席劲旅保持低调 主帅：现在进前四没意义</a></li><li><a href=\"https://sports.sina.com.cn/g/pl/2021-03-07/doc-ikkntiak5744002.shtml\" target=\"_blank\">曼联队长：打曼城我们成绩很好 两周决定整个赛季</a></li><li><a href=\"https://sports.sina.com.cn/g/pl/2021-03-07/doc-ikkntiak5742647.shtml\" target=\"_blank\">曝巴黎关注德赫亚有意今夏引进 曼联是否会卖他</a></li><li><a href=\"https://sports.sina.com.cn/g/pl/2021-03-07/doc-ikkntiak5738590.shtml\" target=\"_blank\">弗格森忆与死神擦肩 医生：当时80%可能活不下来</a></li><li><a href=\"https://sports.sina.com.cn/g/pl/2021-03-07/doc-ikknscsh8892843.shtml\" target=\"_blank\">阿森纳罪人道歉：丢球我负完全责任 感觉很糟糕</a></li></ul><div class=\"dotted-h30\"></div><ul class=\"ul-type1\"><li><a href=\"https://sports.sina.com.cn/g/pl/2021-03-07/doc-ikknscsh8890428.shtml\" target=\"_blank\">阿尔特塔：只要踢出我想要的球风 失误风险可接受</a></li><li><a href=\"https://sports.sina.com.cn/g/pl/2021-03-07/doc-ikknscsh8881660.shtml\" target=\"_blank\">克洛普：有人能比我做得更好吗 高层并不这么想</a></li><li><a href=\"https://sports.sina.com.cn/g/pl/2021-03-07/doc-ikkntiak5721106.shtml\" target=\"_blank\">弗格森：一度失去语言能力 那感觉太吓人了</a></li><li><a href=\"https://sports.sina.com.cn/g/laliga/2021-03-07/doc-ikkntiak5714436.shtml\" target=\"_blank\">巴萨1.2亿球星获首发却消失 恐又被送回替补席</a></li><li><a href=\"https://sports.sina.com.cn/g/seriea/2021-03-07/doc-ikkntiak5714230.shtml\" target=\"_blank\">莫拉塔：C罗史上最佳前锋 我喜欢进球也喜欢助攻</a></li><li><a href=\"https://sports.sina.com.cn/g/pl/2021-03-07/doc-ikknscsh8870044.shtml\" target=\"_blank\">曼联队长与主力互喷F字头 解释:说明我们有激情</a></li><li><a href=\"https://sports.sina.com.cn/g/2021-03-07/doc-ikknscsh8865525.shtml\" target=\"_blank\">科曼：梅西制造威胁  马德里德比任何结果都行</a></li><li><a href=\"https://sports.sina.com.cn/g/laliga/2021-03-07/doc-ikkntiak5704940.shtml\" target=\"_blank\">巴萨18岁小将斩处子球  毁约金1亿下季进一队</a></li><li><a href=\"https://sports.sina.com.cn/g/seriea/2021-03-07/doc-ikknscsh8859781.shtml\" target=\"_blank\">皮尔洛：莫拉塔特质异于其他前锋 我感觉比球员累</a></li><li><a href=\"https://sports.sina.com.cn/g/laliga/2021-03-07/doc-ikkntiak5701263.shtml\" target=\"_blank\">梅西不进球也威力大  助攻梅开二度已参与35球</a></li></ul><div class=\"dotted-h30\"></div><ul class=\"ul-type1\"><li><a href=\"https://sports.sina.com.cn/g/laliga/2021-03-07/doc-ikknscsh8850559.shtml\" target=\"_blank\">梅西一脚传球撕破8人防线 专家：10佳助攻之一</a></li><li><a href=\"https://sports.sina.com.cn/global/germany/2021-03-07/doc-ikkntiak5692080.shtml\" target=\"_blank\">莱万12次德甲戴帽并列次席 追赶远古大神恐怕太难</a></li><li><a href=\"https://sports.sina.com.cn/g/laliga/2021-03-07/doc-ikknscsh8847174.shtml\" target=\"_blank\">巴萨边路的一把尖刀 边后卫本赛季5球+11助攻</a></li><li><a href=\"https://sports.sina.com.cn/g/laliga/2021-03-07/doc-ikknscsh8842266.shtml\" target=\"_blank\">11场拿31分！加媒：巴萨已是西甲夺冠热门</a></li><li><a href=\"https://sports.sina.com.cn/global/germany/2021-03-07/doc-ikkntiak5685752.shtml\" target=\"_blank\">莱万对老东家心太狠！2次戴帽 灌多特20球破纪录</a></li><li><a href=\"https://sports.sina.com.cn/global/germany/2021-03-07/doc-ikkntiak5681289.shtml\" target=\"_blank\">莱万24轮31球再破纪录！能在52个赛季登顶射手王</a></li><li><a href=\"https://sports.sina.com.cn/global/germany/2021-03-07/doc-ikknscsh8834644.shtml\" target=\"_blank\">郁闷！哈兰德梦幻双响伤退 多特最佳开局最糟逆转</a></li><li><a href=\"https://sports.sina.com.cn/global/germany/2021-03-07/doc-ikkntiak5674092.shtml\" target=\"_blank\">哈兰德本赛季场均1球太恐怖 单季对拜仁4球追C罗</a></li><li><a href=\"https://sports.sina.com.cn/global/germany/2021-03-07/doc-ikkntiak5670805.shtml\" target=\"_blank\">哈兰德成年队百球里程碑！快过C罗梅西姆巴佩伊布</a></li><li><a href=\"https://sports.sina.com.cn/g/laliga/2021-03-07/doc-ikkntiak5669139.shtml\" target=\"_blank\">法国杯-姆巴佩两球 萨拉维亚破门 巴黎3-0进16强</a></li></ul><div class=\"dotted-h30\"></div><ul class=\"ul-type1\"><li><a href=\"https://sports.sina.com.cn/g/laliga/2021-03-07/doc-ikkntiak5667049.shtml\" target=\"_blank\">西甲-梅西2助攻 18岁新秀首球 巴萨2-0近11轮10胜</a></li><li><a href=\"https://sports.sina.com.cn/g/seriea/2021-03-07/doc-ikknscsh8810942.shtml\" target=\"_blank\">意甲-莫拉塔2射1传 尤文3-1逆转拉齐奥近4轮10分</a></li><li><a href=\"https://sports.sina.com.cn/global/germany/2021-03-07/doc-ikknscsh8818316.shtml\" target=\"_blank\">哈兰德8分41秒对拜仁双响 作客安联球场最快纪录</a></li><li><a href=\"https://sports.sina.com.cn/global/germany/2021-03-07/doc-ikkntiak5659606.shtml\" target=\"_blank\">哈兰德74秒破门！克洛泽后最快 多特作客拜仁最快</a></li><li><a href=\"https://sports.sina.com.cn/global/germany/2021-03-07/doc-ikknscsh8792107.shtml\" target=\"_blank\">德甲-莱万帽子戏 哈兰德2球伤退 拜仁4-2逆转多特</a></li><li><a href=\"https://sports.sina.com.cn/g/pl/2021-03-07/doc-ikknscsh8787270.shtml\" target=\"_blank\">官方！南美3月世预赛延期进行 巴西VS阿根廷改期</a></li><li><a href=\"https://sports.sina.com.cn/g/pl/2021-03-07/doc-ikknscsh8781230.shtml\" target=\"_blank\">杰拉德无限接近执教首冠！打破9年垄断还差1分</a></li><li><a href=\"https://sports.sina.com.cn/g/seriea/2021-03-07/doc-ikknscsh8768678.shtml\" target=\"_blank\">AC米兰主帅为伤病挠头：恨不能年轻30岁亲自出场</a></li><li><a href=\"https://sports.sina.com.cn/g/seriea/2021-03-06/doc-ikknscsh8758973.shtml\" target=\"_blank\">AC米兰攻击线又折1将！本赛季46例伤病列意甲第二</a></li></ul>\n",
       "</div>"
      ]
     },
     "execution_count": 38,
     "metadata": {},
     "output_type": "execute_result"
    }
   ],
   "source": [
    "div_list[0]"
   ]
  },
  {
   "cell_type": "code",
   "execution_count": 51,
   "metadata": {},
   "outputs": [],
   "source": [
    "new_list = div_list[0].find_all('li')"
   ]
  },
  {
   "cell_type": "code",
   "execution_count": 52,
   "metadata": {},
   "outputs": [],
   "source": [
    "for new in new_list:\n",
    "    news = new.a.text.strip()\n",
    "    news_list.append(news)"
   ]
  },
  {
   "cell_type": "code",
   "execution_count": 53,
   "metadata": {},
   "outputs": [
    {
     "data": {
      "text/plain": [
       "['苏超-流浪者提前第55次夺冠 杰拉德执教生涯首冠',\n",
       " '英超-萨拉赫遭抢断致失球 利物浦半场0-1落后',\n",
       " '英超网络暴力日趋严重 伯恩利手球漏判后卫遭网暴',\n",
       " '前阿森纳门将：枪手不信任我 我想和维拉一起欧战',\n",
       " '竞选正进行！巴萨将在明早揭晓主席竞选结果',\n",
       " '拉波尔塔：若我当选巴萨主席今晚就跟梅父通话',\n",
       " '曝巴黎欲引进拜仁名将 球员仍想等等皇马切尔西',\n",
       " '索帅：曼联进攻确实令人担忧 必须找回进攻火花',\n",
       " '旧将炮轰阿森纳：没给我应有的信任 配不上我',\n",
       " '曝萨拉赫不排除离队可能 观望皇马巴萨动向',\n",
       " '切尔西大将谈图赫尔：重视细节 不按他说的就出局',\n",
       " '马德里德比两大中锋对决 看苏牙本泽马谁能建功',\n",
       " '西甲变三国演义 两马争槽巴萨望收渔翁之利',\n",
       " '分析-阿森纳玩笑失球怎么丢的 背后责任人是阿帅',\n",
       " '天才30场2球却仍获信任 皇马已拒多份重要报价',\n",
       " '4场不丢球17次化解威胁  特狮成巴萨生命保险',\n",
       " '中超名将：想在切尔西退役 不过年龄是一个问题',\n",
       " '英超官方解释不给阿森纳点球 球迷一听就炸了',\n",
       " '英超次席劲旅保持低调 主帅：现在进前四没意义',\n",
       " '曼联队长：打曼城我们成绩很好 两周决定整个赛季',\n",
       " '曝巴黎关注德赫亚有意今夏引进 曼联是否会卖他',\n",
       " '弗格森忆与死神擦肩 医生：当时80%可能活不下来',\n",
       " '阿森纳罪人道歉：丢球我负完全责任 感觉很糟糕',\n",
       " '阿尔特塔：只要踢出我想要的球风 失误风险可接受',\n",
       " '克洛普：有人能比我做得更好吗 高层并不这么想',\n",
       " '弗格森：一度失去语言能力 那感觉太吓人了',\n",
       " '巴萨1.2亿球星获首发却消失 恐又被送回替补席',\n",
       " '莫拉塔：C罗史上最佳前锋 我喜欢进球也喜欢助攻',\n",
       " '曼联队长与主力互喷F字头 解释:说明我们有激情',\n",
       " '科曼：梅西制造威胁  马德里德比任何结果都行',\n",
       " '巴萨18岁小将斩处子球  毁约金1亿下季进一队',\n",
       " '皮尔洛：莫拉塔特质异于其他前锋 我感觉比球员累',\n",
       " '梅西不进球也威力大  助攻梅开二度已参与35球',\n",
       " '梅西一脚传球撕破8人防线 专家：10佳助攻之一',\n",
       " '莱万12次德甲戴帽并列次席 追赶远古大神恐怕太难',\n",
       " '巴萨边路的一把尖刀 边后卫本赛季5球+11助攻',\n",
       " '11场拿31分！加媒：巴萨已是西甲夺冠热门',\n",
       " '莱万对老东家心太狠！2次戴帽 灌多特20球破纪录',\n",
       " '莱万24轮31球再破纪录！能在52个赛季登顶射手王',\n",
       " '郁闷！哈兰德梦幻双响伤退 多特最佳开局最糟逆转',\n",
       " '哈兰德本赛季场均1球太恐怖 单季对拜仁4球追C罗',\n",
       " '哈兰德成年队百球里程碑！快过C罗梅西姆巴佩伊布',\n",
       " '法国杯-姆巴佩两球 萨拉维亚破门 巴黎3-0进16强',\n",
       " '西甲-梅西2助攻 18岁新秀首球 巴萨2-0近11轮10胜',\n",
       " '意甲-莫拉塔2射1传 尤文3-1逆转拉齐奥近4轮10分',\n",
       " '哈兰德8分41秒对拜仁双响 作客安联球场最快纪录',\n",
       " '哈兰德74秒破门！克洛泽后最快 多特作客拜仁最快',\n",
       " '德甲-莱万帽子戏 哈兰德2球伤退 拜仁4-2逆转多特',\n",
       " '官方！南美3月世预赛延期进行 巴西VS阿根廷改期',\n",
       " '杰拉德无限接近执教首冠！打破9年垄断还差1分']"
      ]
     },
     "execution_count": 53,
     "metadata": {},
     "output_type": "execute_result"
    }
   ],
   "source": [
    "news_list"
   ]
  }
 ],
 "metadata": {
  "kernelspec": {
   "display_name": "Python 3",
   "language": "python",
   "name": "python3"
  },
  "language_info": {
   "codemirror_mode": {
    "name": "ipython",
    "version": 3
   },
   "file_extension": ".py",
   "mimetype": "text/x-python",
   "name": "python",
   "nbconvert_exporter": "python",
   "pygments_lexer": "ipython3",
   "version": "3.7.2"
  }
 },
 "nbformat": 4,
 "nbformat_minor": 2
}
